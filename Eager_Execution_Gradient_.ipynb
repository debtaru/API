{
  "nbformat": 4,
  "nbformat_minor": 0,
  "metadata": {
    "colab": {
      "name": "Eager Execution - Gradient .ipynb",
      "version": "0.3.2",
      "provenance": [],
      "include_colab_link": true
    },
    "kernelspec": {
      "name": "python3",
      "display_name": "Python 3"
    },
    "accelerator": "GPU"
  },
  "cells": [
    {
      "cell_type": "markdown",
      "metadata": {
        "id": "view-in-github",
        "colab_type": "text"
      },
      "source": [
        "[View in Colaboratory](https://colab.research.google.com/github/debtaru/API/blob/master/Eager_Execution_Gradient_.ipynb)"
      ]
    },
    {
      "metadata": {
        "id": "KSrDBc-DNg8x",
        "colab_type": "text"
      },
      "cell_type": "markdown",
      "source": [
        "# Enable Eager Execution "
      ]
    },
    {
      "metadata": {
        "id": "dHHHtRg0NdGx",
        "colab_type": "code",
        "colab": {
          "base_uri": "https://localhost:8080/",
          "height": 34
        },
        "outputId": "960741ef-ef3e-499e-98a1-9c0928f34743"
      },
      "cell_type": "code",
      "source": [
        "import tensorflow as tf\n",
        "\n",
        "tf.enable_eager_execution()\n",
        "\n",
        "print('Is it enabled ? ', tf.executing_eagerly())"
      ],
      "execution_count": 0,
      "outputs": [
        {
          "output_type": "stream",
          "text": [
            "Is it enabled ?  True\n"
          ],
          "name": "stdout"
        }
      ]
    },
    {
      "metadata": {
        "id": "Y7CmID5qNzAY",
        "colab_type": "text"
      },
      "cell_type": "markdown",
      "source": [
        "As we know that TenosrFlow works with static graphs. So, first you have to create the graph then execute it later. This makes debugging a bit complicated. With Eager Execution you can now evalute operations directly without creating a session."
      ]
    },
    {
      "metadata": {
        "id": "zuVssr1XNt0z",
        "colab_type": "code",
        "colab": {
          "base_uri": "https://localhost:8080/",
          "height": 34
        },
        "outputId": "70d0eb8c-70c8-4c42-96f5-b0625a5d122a"
      },
      "cell_type": "code",
      "source": [
        "x = 2\n",
        "m = tf.square(x)\n",
        "print(\"x^2 = {}\".format(m))"
      ],
      "execution_count": 0,
      "outputs": [
        {
          "output_type": "stream",
          "text": [
            "x^2 = 4\n"
          ],
          "name": "stdout"
        }
      ]
    },
    {
      "metadata": {
        "id": "QhV6mfuJOdgb",
        "colab_type": "text"
      },
      "cell_type": "markdown",
      "source": [
        "Cool, isn't it ? Now, let us look at a very important function called [tf.GradientTape ](https://https://www.tensorflow.org/api_docs/python/tf/GradientTape). This function allows you to record automatic differentiation operations. So If you evaluted a loss function $L$ included inside the scope of that function, you can evaluate the gradient with respect to the input. Seems complicated ? Let us see an example.  Suppose, we want to find the derivative of a simple function $f(x) = x^2$ at $x = 2$. Then do the following "
      ]
    },
    {
      "metadata": {
        "id": "0CPedGTyPcKy",
        "colab_type": "code",
        "colab": {
          "base_uri": "https://localhost:8080/",
          "height": 34
        },
        "outputId": "cbaf0557-00e3-45c5-8327-27dc2f8c8720"
      },
      "cell_type": "code",
      "source": [
        "x = tf.Variable([[2.0]])\n",
        "with tf.GradientTape() as tape:\n",
        "  loss = x * x\n",
        "\n",
        "grad = tape.gradient(loss, x)\n",
        "print(grad)"
      ],
      "execution_count": 0,
      "outputs": [
        {
          "output_type": "stream",
          "text": [
            "tf.Tensor([[4.]], shape=(1, 1), dtype=float32)\n"
          ],
          "name": "stdout"
        }
      ]
    },
    {
      "metadata": {
        "id": "lOrG97j3Pos8",
        "colab_type": "text"
      },
      "cell_type": "markdown",
      "source": [
        "As you can see the derivative is evaluted correctly as $f'(x = 2) = 2 \\times 2 = 4$. This function is very important as it allows you to closely watch the gradient of the graph you are working on. Moreoever, you can calcuate the gradient of an arbitrary loss function and update the parameters accordingly. Let us take a look at a complicated example. "
      ]
    },
    {
      "metadata": {
        "id": "SiQOSWTWQHaG",
        "colab_type": "text"
      },
      "cell_type": "markdown",
      "source": [
        "# Evaluate the Gradient of a CNN\n",
        "In this example we will create a loss function on a CNN model. Then we will evaluate the gradient and update the parameters of the model. We will train the model on mnist dataset."
      ]
    },
    {
      "metadata": {
        "id": "djhdKtR4QfKY",
        "colab_type": "text"
      },
      "cell_type": "markdown",
      "source": [
        "## Load Data"
      ]
    },
    {
      "metadata": {
        "id": "qtNUKwbGQjUG",
        "colab_type": "code",
        "colab": {
          "base_uri": "https://localhost:8080/",
          "height": 52
        },
        "outputId": "9efd36a8-d2f4-4173-cd32-98d7d13f82f0"
      },
      "cell_type": "code",
      "source": [
        "(x_train, y_train), (x_test, y_test) = tf.keras.datasets.mnist.load_data()"
      ],
      "execution_count": 0,
      "outputs": [
        {
          "output_type": "stream",
          "text": [
            "Downloading data from https://storage.googleapis.com/tensorflow/tf-keras-datasets/mnist.npz\n",
            "11493376/11490434 [==============================] - 1s 0us/step\n"
          ],
          "name": "stdout"
        }
      ]
    },
    {
      "metadata": {
        "id": "Oq-tfTzPQslc",
        "colab_type": "text"
      },
      "cell_type": "markdown",
      "source": [
        "## Preprocess the Dataset"
      ]
    },
    {
      "metadata": {
        "id": "cQDTxumRQxVW",
        "colab_type": "code",
        "colab": {}
      },
      "cell_type": "code",
      "source": [
        "import numpy as np\n",
        "\n",
        "\n",
        "x_train = tf.expand_dims(np.float32(x_train)/ 255., 3)\n",
        "x_test  = tf.expand_dims(np.float32(x_test )/ 255., 3)\n",
        "\n",
        "y_train = tf.one_hot(y_train, 10)\n",
        "y_test  = tf.one_hot(y_test , 10)"
      ],
      "execution_count": 0,
      "outputs": []
    },
    {
      "metadata": {
        "id": "exd7YnKBQ4-r",
        "colab_type": "text"
      },
      "cell_type": "markdown",
      "source": [
        "## Look at the Data\n",
        "\n",
        "Now since we use Eager Execution we can easily look at the data by calling `.numpy()` on the tenosr. This will return the numpy array "
      ]
    },
    {
      "metadata": {
        "id": "Nk7O5A2WRLST",
        "colab_type": "code",
        "colab": {
          "base_uri": "https://localhost:8080/",
          "height": 364
        },
        "outputId": "e339c356-4b57-4116-ab05-22e105b33d55"
      },
      "cell_type": "code",
      "source": [
        "import matplotlib.pyplot as plt\n",
        "\n",
        "img = x_train[0].numpy().squeeze()\n",
        "lbl = np.argmax(y_train[0])\n",
        "print('Label :', lbl)\n",
        "plt.imshow(img)\n",
        "plt.show()"
      ],
      "execution_count": 0,
      "outputs": [
        {
          "output_type": "stream",
          "text": [
            "Label : 5\n"
          ],
          "name": "stdout"
        },
        {
          "output_type": "display_data",
          "data": {
            "image/png": "[encoded data removed]",
            "text/plain": [
              "<matplotlib.figure.Figure at 0x7f647b314be0>"
            ]
          },
          "metadata": {
            "tags": []
          }
        }
      ]
    },
    {
      "metadata": {
        "id": "6g0CKyv3SFxp",
        "colab_type": "text"
      },
      "cell_type": "markdown",
      "source": [
        "## Get a Batch of the Data"
      ]
    },
    {
      "metadata": {
        "id": "L0dt5XIqSK_p",
        "colab_type": "code",
        "colab": {}
      },
      "cell_type": "code",
      "source": [
        "import numpy as np\n",
        "def get_batch(batch_size = 32):\n",
        "  #get a random index to extract a batch \n",
        "  r = np.random.randint(0, 60000-batch_size)\n",
        "  return x_train[r: r + batch_size], y_train[r: r + batch_size]"
      ],
      "execution_count": 0,
      "outputs": []
    },
    {
      "metadata": {
        "id": "1Ao4i46DR2M9",
        "colab_type": "text"
      },
      "cell_type": "markdown",
      "source": [
        "## Simple Model"
      ]
    },
    {
      "metadata": {
        "id": "oUcac6HAR5-S",
        "colab_type": "code",
        "colab": {
          "base_uri": "https://localhost:8080/",
          "height": 486
        },
        "outputId": "2512bacb-ce78-42dd-ca56-0650ae2d7886"
      },
      "cell_type": "code",
      "source": [
        "from tensorflow.keras.layers import Dense, Convolution2D, MaxPooling2D, Flatten, BatchNormalization, Dropout\n",
        "from tensorflow.keras.models import Sequential\n",
        "\n",
        "def create_model():\n",
        "  model = Sequential()\n",
        "  model.add(Convolution2D(filters = 16, kernel_size = 3, padding = 'same', input_shape = [28, 28, 1], activation = 'relu'))\n",
        "  model.add(MaxPooling2D(pool_size = (2,2)))\n",
        "  model.add(BatchNormalization())\n",
        "  model.add(Convolution2D(filters = 32, kernel_size = 3, padding = 'same', activation = 'relu'))\n",
        "  model.add(MaxPooling2D(pool_size = (2,2)))\n",
        "  model.add(BatchNormalization())\n",
        "  model.add(Flatten())\n",
        "  model.add(Dense(units = 100, activation = 'relu'))\n",
        "  model.add(Dropout(0.5))\n",
        "  model.add(Dense(units = 10 , activation = 'softmax'))\n",
        "  return model\n",
        "\n",
        "model = create_model()\n",
        "model.summary()"
      ],
      "execution_count": 0,
      "outputs": [
        {
          "output_type": "stream",
          "text": [
            "_________________________________________________________________\n",
            "Layer (type)                 Output Shape              Param #   \n",
            "=================================================================\n",
            "conv2d (Conv2D)              (None, 28, 28, 16)        160       \n",
            "_________________________________________________________________\n",
            "max_pooling2d (MaxPooling2D) (None, 14, 14, 16)        0         \n",
            "_________________________________________________________________\n",
            "batch_normalization (BatchNo (None, 14, 14, 16)        64        \n",
            "_________________________________________________________________\n",
            "conv2d_1 (Conv2D)            (None, 14, 14, 32)        4640      \n",
            "_________________________________________________________________\n",
            "max_pooling2d_1 (MaxPooling2 (None, 7, 7, 32)          0         \n",
            "_________________________________________________________________\n",
            "batch_normalization_1 (Batch (None, 7, 7, 32)          128       \n",
            "_________________________________________________________________\n",
            "flatten (Flatten)            (None, 1568)              0         \n",
            "_________________________________________________________________\n",
            "dense (Dense)                (None, 100)               156900    \n",
            "_________________________________________________________________\n",
            "dropout (Dropout)            (None, 100)               0         \n",
            "_________________________________________________________________\n",
            "dense_1 (Dense)              (None, 10)                1010      \n",
            "=================================================================\n",
            "Total params: 162,902\n",
            "Trainable params: 162,806\n",
            "Non-trainable params: 96\n",
            "_________________________________________________________________\n"
          ],
          "name": "stdout"
        }
      ]
    },
    {
      "metadata": {
        "id": "DH6vYwpXScJG",
        "colab_type": "text"
      },
      "cell_type": "markdown",
      "source": [
        "## Calculate the Loss and Gradient "
      ]
    },
    {
      "metadata": {
        "id": "ZTBv2wsJSnFz",
        "colab_type": "code",
        "colab": {}
      },
      "cell_type": "code",
      "source": [
        "def loss(model, x, y):\n",
        "  #use cross entropy\n",
        "  prediction = model(x)\n",
        "  return tf.losses.softmax_cross_entropy(y, logits=prediction)\n",
        "\n",
        "def grad(model, x, y):\n",
        "  #use tf.GradientTape() to record the gradient \n",
        "  with tf.GradientTape() as tape:\n",
        "    loss_value = loss(model, x, y)\n",
        "  return tape.gradient(loss_value, model.variables)"
      ],
      "execution_count": 0,
      "outputs": []
    },
    {
      "metadata": {
        "id": "aU8oNX2vSva3",
        "colab_type": "text"
      },
      "cell_type": "markdown",
      "source": [
        "## Calcuate Accuracy of the Model "
      ]
    },
    {
      "metadata": {
        "id": "icQFu_AFSzcs",
        "colab_type": "code",
        "colab": {}
      },
      "cell_type": "code",
      "source": [
        "def accuracy(model, x, y):\n",
        "  #calcuate the model prediction eagerly \n",
        "  yhat = model(x)\n",
        "  \n",
        "  #compare the predictions to the truth\n",
        "  yhat = tf.argmax(yhat, 1).numpy()\n",
        "  y    = tf.argmax(y   , 1).numpy()\n",
        "  return np.sum(y == yhat)/len(y)"
      ],
      "execution_count": 0,
      "outputs": []
    },
    {
      "metadata": {
        "id": "zei0Ga5jTEJC",
        "colab_type": "text"
      },
      "cell_type": "markdown",
      "source": [
        "## Training\n",
        "Initialize the variables for training. Note that we need to know the length of an epoch in order to evaluate the metrics of the model. Also, we are using SGD to update the model paramteres "
      ]
    },
    {
      "metadata": {
        "id": "X-iPCeBwTHJv",
        "colab_type": "code",
        "colab": {}
      },
      "cell_type": "code",
      "source": [
        "#iterations and epochs variables \n",
        "i = 1\n",
        "epoch = 0\n",
        "epochs = 4 \n",
        "\n",
        "#running loss and accuracy\n",
        "running_loss = 0.\n",
        "running_acc  = 0.\n",
        "\n",
        "#calcuate the length of the epoch \n",
        "batch_size = 32 \n",
        "epoch_length = x_train.numpy().shape[0] // batch_size\n",
        "\n",
        "#optimizer to update the parmeters of the model \n",
        "optimizer = tf.train.GradientDescentOptimizer(learning_rate=0.05)"
      ],
      "execution_count": 0,
      "outputs": []
    },
    {
      "metadata": {
        "id": "yJTCnxusTczk",
        "colab_type": "code",
        "colab": {
          "base_uri": "https://localhost:8080/",
          "height": 104
        },
        "outputId": "bdd9609a-25f9-4e82-8cf1-7651ffebdad0"
      },
      "cell_type": "code",
      "source": [
        "while epoch <= epochs:\n",
        "  #get next batch\n",
        "  x, y = get_batch(batch_size = batch_size)\n",
        "\n",
        "  # Calculate derivatives of the input function with respect to its parameters.\n",
        "  grads = grad(model, x, y)\n",
        "\n",
        "  # Apply the gradient to the model\n",
        "  optimizer.apply_gradients(zip(grads, model.variables),\n",
        "                            global_step=tf.train.get_or_create_global_step())\n",
        "  loss_value = loss(model, x, y)\n",
        "  \n",
        "  #calcuate running loss and accuracy \n",
        "  running_loss += loss_value\n",
        "  running_acc  += accuracy(model, x, y)\n",
        "  \n",
        "  #report values at the end of the epoch \n",
        "  if i % epoch_length == 0:\n",
        "    print(\"Epoch: {:d} Loss: {:.3f}, Acc: {:.3f}\".format(epoch, running_loss/epoch_length, running_acc/epoch_length))\n",
        "    \n",
        "    #reset the running loss an accuracy \n",
        "    running_loss = 0 \n",
        "    running_acc  = 0 \n",
        "    \n",
        "    epoch += 1\n",
        "  i += 1"
      ],
      "execution_count": 0,
      "outputs": [
        {
          "output_type": "stream",
          "text": [
            "Epoch: 0 Loss: 1.706, Acc: 0.780\n",
            "Epoch: 1 Loss: 1.498, Acc: 0.965\n",
            "Epoch: 2 Loss: 1.485, Acc: 0.977\n",
            "Epoch: 3 Loss: 1.480, Acc: 0.982\n",
            "Epoch: 4 Loss: 1.477, Acc: 0.985\n"
          ],
          "name": "stdout"
        }
      ]
    },
    {
      "metadata": {
        "id": "SN2lmMTOTx1L",
        "colab_type": "text"
      },
      "cell_type": "markdown",
      "source": [
        "## Testing"
      ]
    },
    {
      "metadata": {
        "id": "NsOsTt-WT461",
        "colab_type": "code",
        "colab": {
          "base_uri": "https://localhost:8080/",
          "height": 34
        },
        "outputId": "23891420-1306-4190-edac-079fcd638ab1"
      },
      "cell_type": "code",
      "source": [
        "print('Accuracy on the test set , ', accuracy(model, x_test, y_test))"
      ],
      "execution_count": 0,
      "outputs": [
        {
          "output_type": "stream",
          "text": [
            "Accuracy on the test set ,  0.9788\n"
          ],
          "name": "stdout"
        }
      ]
    },
    {
      "metadata": {
        "id": "S09UdnjoXvE9",
        "colab_type": "text"
      },
      "cell_type": "markdown",
      "source": [
        "**Read more ** https://www.tensorflow.org/guide/eager"
      ]
    }
  ]
}